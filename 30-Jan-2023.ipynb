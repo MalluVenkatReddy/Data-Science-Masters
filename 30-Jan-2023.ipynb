{
 "cells": [
  {
   "cell_type": "code",
   "execution_count": 1,
   "id": "95931759-5fca-4b3e-96dc-38999b16be20",
   "metadata": {},
   "outputs": [
    {
     "name": "stdout",
     "output_type": "stream",
     "text": [
      "10\n"
     ]
    }
   ],
   "source": [
    "a=10\n",
    "print(a)"
   ]
  },
  {
   "cell_type": "code",
   "execution_count": 2,
   "id": "0a0731b3-cd6d-409c-9f41-fb655c6487f1",
   "metadata": {},
   "outputs": [
    {
     "name": "stdout",
     "output_type": "stream",
     "text": [
      "Hello world\n"
     ]
    }
   ],
   "source": [
    "print(\"Hello world\")"
   ]
  },
  {
   "cell_type": "code",
   "execution_count": 3,
   "id": "622d0ad8-e13c-4bab-9f2e-3adf1814d202",
   "metadata": {},
   "outputs": [
    {
     "name": "stdout",
     "output_type": "stream",
     "text": [
      "123\n"
     ]
    }
   ],
   "source": [
    "print(123)"
   ]
  },
  {
   "cell_type": "code",
   "execution_count": 4,
   "id": "4cac91a4-bd72-4434-afc4-65ccf7d17b24",
   "metadata": {},
   "outputs": [
    {
     "data": {
      "text/plain": [
       "4"
      ]
     },
     "execution_count": 4,
     "metadata": {},
     "output_type": "execute_result"
    }
   ],
   "source": [
    "int(4)"
   ]
  },
  {
   "cell_type": "code",
   "execution_count": 5,
   "id": "8d7ea80e-9756-42b9-8e3f-fa2adfc0552c",
   "metadata": {},
   "outputs": [
    {
     "data": {
      "text/plain": [
       "34"
      ]
     },
     "execution_count": 5,
     "metadata": {},
     "output_type": "execute_result"
    }
   ],
   "source": [
    "int(\"34\")"
   ]
  },
  {
   "cell_type": "code",
   "execution_count": 8,
   "id": "14d421e7-9ce8-47d7-bd5f-cfc86d93c319",
   "metadata": {},
   "outputs": [
    {
     "name": "stdout",
     "output_type": "stream",
     "text": [
      "my age is : 41\n"
     ]
    }
   ],
   "source": [
    "age=41\n",
    "print(\"my age is :\", age)"
   ]
  },
  {
   "cell_type": "code",
   "execution_count": 9,
   "id": "c776285e-ae43-40c7-bd24-7a5a948b8b76",
   "metadata": {},
   "outputs": [
    {
     "name": "stdout",
     "output_type": "stream",
     "text": [
      "my age is {age}\n"
     ]
    }
   ],
   "source": [
    "print(\"my age is {age}\")"
   ]
  },
  {
   "cell_type": "markdown",
   "id": "5431c570-547c-4b1f-8887-4f310fb0367b",
   "metadata": {},
   "source": [
    "\"\" f string\"\""
   ]
  },
  {
   "cell_type": "code",
   "execution_count": 10,
   "id": "d629ce51-344e-4b3e-9d00-8edef64bbf30",
   "metadata": {},
   "outputs": [
    {
     "name": "stdout",
     "output_type": "stream",
     "text": [
      "my age is 41\n"
     ]
    }
   ],
   "source": [
    "print(f\"my age is {age}\")"
   ]
  },
  {
   "cell_type": "code",
   "execution_count": 16,
   "id": "1ffe1771-6b02-42f2-b722-eee7b2ba18a1",
   "metadata": {},
   "outputs": [
    {
     "name": "stdout",
     "output_type": "stream",
     "text": [
      "my name is :  mallu and age is : 41\n"
     ]
    }
   ],
   "source": [
    "name=\"mallu\"\n",
    "age=41\n",
    "print(\"my name is : \", name ,\"and age is :\", age)"
   ]
  },
  {
   "cell_type": "code",
   "execution_count": 20,
   "id": "7096a4f6-1189-419a-8211-fe5a3ffb7a45",
   "metadata": {},
   "outputs": [
    {
     "name": "stdout",
     "output_type": "stream",
     "text": [
      "my name is : mallu and age is : 41 \n"
     ]
    }
   ],
   "source": [
    "print(\"my name is : {} and age is : {} \" .format(name, age))"
   ]
  },
  {
   "cell_type": "code",
   "execution_count": 2,
   "id": "42dc4a6a-4f65-4bb3-b0e9-baaebf1bbba2",
   "metadata": {},
   "outputs": [
    {
     "name": "stdout",
     "output_type": "stream",
     "text": [
      "my name is mallu, age is 41 and i studied Mtech\n"
     ]
    }
   ],
   "source": [
    "name=\"mallu\"\n",
    "age=41\n",
    "degree=\"Mtech\"\n",
    "print(f\"my name is {name}, age is {age} and i studied {degree}\")"
   ]
  },
  {
   "cell_type": "code",
   "execution_count": 3,
   "id": "08f77fa0-e868-4a9d-84d1-a5252781e55d",
   "metadata": {},
   "outputs": [
    {
     "name": "stdout",
     "output_type": "stream",
     "text": [
      "my name is mallu, age is 41 and i studied Mtech\n"
     ]
    }
   ],
   "source": [
    "print(\"my name is {}, age is {} and i studied {}\".format(name,age,degree))"
   ]
  },
  {
   "cell_type": "code",
   "execution_count": 4,
   "id": "61816e67-4df6-4671-a210-90bf3574798b",
   "metadata": {},
   "outputs": [
    {
     "name": "stdout",
     "output_type": "stream",
     "text": [
      "my age is 41, name is mallu and i studied Mtech\n"
     ]
    }
   ],
   "source": [
    "##different odrer\n",
    "print(\"my age is {firstage}, name is {firstname} and i studied {firstdegree}\".format(firstdegree=degree,firstname=name,firstage=age))"
   ]
  },
  {
   "cell_type": "markdown",
   "id": "b12edaba-4d57-4e4f-8c1b-7dab1dd681b0",
   "metadata": {},
   "source": [
    "###Control flow###"
   ]
  },
  {
   "cell_type": "markdown",
   "id": "378f6893-f53d-4df1-b9d9-fa635f413cd5",
   "metadata": {},
   "source": [
    "#Control Flow#"
   ]
  },
  {
   "cell_type": "code",
   "execution_count": 28,
   "id": "8e40d30b-f85a-4f70-ba55-addc110f44f0",
   "metadata": {},
   "outputs": [
    {
     "name": "stdin",
     "output_type": "stream",
     "text": [
      " \"i am mallu\"\n"
     ]
    },
    {
     "data": {
      "text/plain": [
       "'\"i am mallu\"'"
      ]
     },
     "execution_count": 28,
     "metadata": {},
     "output_type": "execute_result"
    }
   ],
   "source": [
    "input()"
   ]
  },
  {
   "cell_type": "code",
   "execution_count": 36,
   "id": "fff2a3e8-b314-441a-a1c7-e1a4402325f2",
   "metadata": {},
   "outputs": [
    {
     "name": "stdin",
     "output_type": "stream",
     "text": [
      "enter your age:  25\n"
     ]
    },
    {
     "name": "stdout",
     "output_type": "stream",
     "text": [
      " you are an young blood \n"
     ]
    }
   ],
   "source": [
    "age=int(input(\"enter your age: \" ))\n",
    "if age>=18 and age<45:\n",
    "    print(\" you are an young blood \")\n",
    "else:\n",
    "    print(\" you are not an young blood \")"
   ]
  },
  {
   "cell_type": "code",
   "execution_count": 40,
   "id": "97876deb-cb11-43f8-ba61-d824f26e93c9",
   "metadata": {},
   "outputs": [
    {
     "name": "stdin",
     "output_type": "stream",
     "text": [
      "enter the product price  2000\n"
     ]
    },
    {
     "name": "stdout",
     "output_type": "stream",
     "text": [
      "final product price is : 1600.0\n"
     ]
    }
   ],
   "source": [
    "price=int(input(\"enter the product price \"))\n",
    "if price<=1000:\n",
    "    print(\"final product price is :\", 0.7*price)\n",
    "else:\n",
    "    print(\"final product price is :\", 0.8*price)"
   ]
  },
  {
   "cell_type": "code",
   "execution_count": 42,
   "id": "ef163376-2463-45ff-9491-d3446e4722bf",
   "metadata": {
    "collapsed": true,
    "jupyter": {
     "outputs_hidden": true
    },
    "tags": []
   },
   "outputs": [
    {
     "name": "stdin",
     "output_type": "stream",
     "text": [
      "enter the product price  500\n"
     ]
    },
    {
     "name": "stdout",
     "output_type": "stream",
     "text": [
      "final product price is 350.0\n"
     ]
    }
   ],
   "source": [
    "price=int(input(\"enter the product price \"))\n",
    "if price<=1000:\n",
    "    print(\"final product price is {}\".format(0.7*price))\n",
    "else:\n",
    "    print(\"final product price is {}\".format(0.8*price))"
   ]
  },
  {
   "cell_type": "code",
   "execution_count": 57,
   "id": "b6b7b0d7-375e-445f-ae98-72f8e0fed923",
   "metadata": {},
   "outputs": [
    {
     "name": "stdin",
     "output_type": "stream",
     "text": [
      "enter the product price  4000\n"
     ]
    },
    {
     "name": "stdout",
     "output_type": "stream",
     "text": [
      "you will get Goa trip\n",
      "final product price is 3200.0\n"
     ]
    }
   ],
   "source": [
    "price=int(input(\"enter the product price \"))\n",
    "if price>3000:\n",
    "    if price==4000:\n",
    "        print(\"you will get Goa trip\")\n",
    "    print(\"final product price is {}\".format(0.8*price))\n",
    "elif price<=3000 and price>2000:\n",
    "    print(\"final product price is {}\".format(0.7*price))\n",
    "elif price<=2000 and price>1000:\n",
    "    print(\"final product price is {}\".format(0.6*price))\n",
    "else:\n",
    "    print(f\"final product price is {0.5*price}\")"
   ]
  },
  {
   "cell_type": "code",
   "execution_count": 6,
   "id": "c44d1de0-bebb-47dc-b738-357634572115",
   "metadata": {},
   "outputs": [
    {
     "name": "stdin",
     "output_type": "stream",
     "text": [
      "enter the product price  4000\n"
     ]
    },
    {
     "name": "stdout",
     "output_type": "stream",
     "text": [
      "final product price is 3200.0\n"
     ]
    }
   ],
   "source": [
    "#single statement#\n",
    "price=int(input(\"enter the product price \"))\n",
    "if (price<=1000):print(\"final product price is {}\".format(0.7*price))\n",
    "else:\n",
    "    print(\"final product price is {}\".format(0.8*price))"
   ]
  },
  {
   "cell_type": "code",
   "execution_count": null,
   "id": "42080b1f-8ff3-44e6-a10e-07e143a0b796",
   "metadata": {},
   "outputs": [],
   "source": [
    "##Loops statements##\n",
    "1.while Loop\n",
    "2.for loop\n",
    "3.nested loops\n",
    "4.loop control (break,continue,pass)"
   ]
  },
  {
   "cell_type": "code",
   "execution_count": 14,
   "id": "f455514d-70f1-408f-a4af-74c47fb52596",
   "metadata": {},
   "outputs": [
    {
     "name": "stdin",
     "output_type": "stream",
     "text": [
      "enter joining age 23\n"
     ]
    },
    {
     "name": "stdout",
     "output_type": "stream",
     "text": [
      "24\n",
      "25\n",
      "26\n",
      "27\n",
      "28\n",
      "29\n",
      "30\n",
      "31\n",
      "32\n",
      "33\n",
      "34\n",
      "35\n",
      "36\n",
      "37\n",
      "38\n",
      "39\n",
      "40\n",
      "41\n",
      "42\n",
      "43\n",
      "44\n",
      "45\n",
      "46\n",
      "47\n",
      "48\n",
      "49\n",
      "50\n",
      "51\n",
      "52\n",
      "53\n",
      "54\n",
      "55\n",
      "56\n",
      "57\n",
      "58\n",
      "59\n",
      "60\n",
      "61\n",
      "its time for retirement\n"
     ]
    }
   ],
   "source": [
    "joiningage=int(input(\"enter joining age\"))\n",
    "while joiningage<=60:\n",
    "    joiningage=joiningage+1\n",
    "    print(joiningage)\n",
    "else:\n",
    "    print(\"its time for retirement\")"
   ]
  },
  {
   "cell_type": "code",
   "execution_count": 16,
   "id": "873c9976-d040-47f3-82dd-6e41d91716ec",
   "metadata": {},
   "outputs": [
    {
     "name": "stdin",
     "output_type": "stream",
     "text": [
      "enter initial balance 6000\n"
     ]
    },
    {
     "name": "stdout",
     "output_type": "stream",
     "text": [
      "balance is  5000\n",
      "balance is  4000\n",
      "balance is  3000\n",
      "balance is  2000\n",
      "balance is  1000\n",
      "please deposit amount \n"
     ]
    }
   ],
   "source": [
    "bankbalance=int(input(\"enter initial balance\"))\n",
    "while bankbalance>1000:\n",
    "    bankbalance=bankbalance-1000\n",
    "    print(\"balance is \", bankbalance)\n",
    "else:\n",
    "    print(\"please deposit amount \")   \n",
    "        "
   ]
  },
  {
   "cell_type": "code",
   "execution_count": 23,
   "id": "68e1942a-1ec3-42c7-bcfb-44e2ad3485ca",
   "metadata": {},
   "outputs": [
    {
     "name": "stdout",
     "output_type": "stream",
     "text": [
      "mallu\n",
      "1\n",
      "2\n",
      "3\n",
      "4\n",
      "5\n",
      "venkata\n",
      "reddy\n",
      "cast is  reddy\n"
     ]
    }
   ],
   "source": [
    "x=[\"mallu\",1,2,3,4,5,\"venkata\",\"reddy\"]\n",
    "for i in x:\n",
    "    print(i)\n",
    "    if i==\"reddy\":\n",
    "        print(\"cast is \", i)"
   ]
  },
  {
   "cell_type": "code",
   "execution_count": 24,
   "id": "42018b80-8395-492c-a039-f071bfe0d1ec",
   "metadata": {},
   "outputs": [
    {
     "name": "stdout",
     "output_type": "stream",
     "text": [
      "m\n",
      "a\n",
      "n\n",
      "g\n",
      "o\n"
     ]
    }
   ],
   "source": [
    "fruit=\"mango\"\n",
    "for i in fruit:\n",
    "    print(i)"
   ]
  },
  {
   "cell_type": "code",
   "execution_count": 25,
   "id": "d8efa55c-355e-4228-a82f-d7b2cabb5741",
   "metadata": {},
   "outputs": [
    {
     "data": {
      "text/plain": [
       "'a'"
      ]
     },
     "execution_count": 25,
     "metadata": {},
     "output_type": "execute_result"
    }
   ],
   "source": [
    "fruit[1]"
   ]
  },
  {
   "cell_type": "code",
   "execution_count": 26,
   "id": "88d318d4-7f86-426c-9ca1-8f7af3e4ebd1",
   "metadata": {},
   "outputs": [
    {
     "data": {
      "text/plain": [
       "'o'"
      ]
     },
     "execution_count": 26,
     "metadata": {},
     "output_type": "execute_result"
    }
   ],
   "source": [
    "fruit[4]"
   ]
  },
  {
   "cell_type": "code",
   "execution_count": 28,
   "id": "606a6a67-c600-4926-822c-1a8e8f0c5698",
   "metadata": {},
   "outputs": [
    {
     "name": "stdout",
     "output_type": "stream",
     "text": [
      "m a n g o "
     ]
    }
   ],
   "source": [
    "fruit=\"mango\"\n",
    "for i in fruit:\n",
    "    print(i,end=\" \")"
   ]
  },
  {
   "cell_type": "code",
   "execution_count": 14,
   "id": "5181f67b-6535-4259-a3ea-efe767ae591a",
   "metadata": {},
   "outputs": [
    {
     "name": "stdout",
     "output_type": "stream",
     "text": [
      "* \n",
      "* * \n",
      "* * * \n",
      "* * * * \n"
     ]
    }
   ],
   "source": [
    "n=5\n",
    "for i in range(1,n):\n",
    "    for j in range(0,i):\n",
    "        print(\"*\", end=\" \")\n",
    "    print(\"\\r\")"
   ]
  },
  {
   "cell_type": "markdown",
   "id": "a6962c39-e4a2-4622-b625-91b75784b879",
   "metadata": {},
   "source": [
    "## Home work for equilateral triangle\n",
    "  *\n",
    " ***\n",
    "*****"
   ]
  },
  {
   "cell_type": "code",
   "execution_count": 35,
   "id": "41e0dff0-2517-462f-8bed-ea484754e3c8",
   "metadata": {},
   "outputs": [
    {
     "name": "stdout",
     "output_type": "stream",
     "text": [
      "        * \n",
      "      * * * \n",
      "    * * * * * \n",
      "  * * * * * * * \n",
      "* * * * * * * * * \n"
     ]
    }
   ],
   "source": [
    "n=5\n",
    "for i in range(1,2*n,2):\n",
    "    for j in range(0,i):\n",
    "        if j==0:\n",
    "            for k in range(2*n-i,1,-1):\n",
    "                print(\" \", end=\"\")\n",
    "        print(\"*\", end=\" \")\n",
    "    print(\"\\r\")"
   ]
  },
  {
   "cell_type": "code",
   "execution_count": 69,
   "id": "1c8a860f-d2b7-4008-a893-1a4d04bc0736",
   "metadata": {},
   "outputs": [
    {
     "name": "stdout",
     "output_type": "stream",
     "text": [
      "         * \n",
      "       * * * \n",
      "     * * * * * \n",
      "   * * * * * * * \n",
      " * * * * * * * * * \n"
     ]
    }
   ],
   "source": [
    "n=5\n",
    "for i in range(1,2*n,2):\n",
    "    for j in range(0,i):\n",
    "        if j==0:\n",
    "            print(' '*(2*n-i),end=\"\")\n",
    "        print(\"*\", end=\" \")\n",
    "    print(\"\\r\")"
   ]
  },
  {
   "cell_type": "code",
   "execution_count": 76,
   "id": "5a06cb4b-6fe4-4ee1-a749-f275f79edb9c",
   "metadata": {},
   "outputs": [
    {
     "name": "stdout",
     "output_type": "stream",
     "text": [
      "mango\n",
      "apple\n",
      "fruit is  banana\n"
     ]
    }
   ],
   "source": [
    "fruit_list=[\"mango\",\"apple\",\"banana\",\"cherry\",\"papaya\"]\n",
    "for i in fruit_list:\n",
    "    if i==\"banana\":\n",
    "        print(\"fruit is \", i)\n",
    "        break\n",
    "    print(i)"
   ]
  },
  {
   "cell_type": "code",
   "execution_count": 77,
   "id": "2e13f1fa-93de-4b17-86ca-1952c811e890",
   "metadata": {},
   "outputs": [
    {
     "name": "stdout",
     "output_type": "stream",
     "text": [
      "mango\n",
      "apple\n",
      "fruit is  banana\n",
      "cherry\n",
      "papaya\n"
     ]
    }
   ],
   "source": [
    "fruit_list=[\"mango\",\"apple\",\"banana\",\"cherry\",\"papaya\"]\n",
    "for i in fruit_list:\n",
    "    if i==\"banana\":\n",
    "        print(\"fruit is \", i)\n",
    "        continue\n",
    "    print(i)"
   ]
  },
  {
   "cell_type": "code",
   "execution_count": 78,
   "id": "18662f18-2b5c-4afc-944c-46c3bd72240f",
   "metadata": {},
   "outputs": [
    {
     "name": "stdout",
     "output_type": "stream",
     "text": [
      "mango\n",
      "apple\n",
      "fruit is  banana\n",
      "banana\n",
      "cherry\n",
      "papaya\n"
     ]
    }
   ],
   "source": [
    "fruit_list=[\"mango\",\"apple\",\"banana\",\"cherry\",\"papaya\"]\n",
    "for i in fruit_list:\n",
    "    if i==\"banana\":\n",
    "        print(\"fruit is \", i)\n",
    "        pass\n",
    "    print(i)"
   ]
  },
  {
   "cell_type": "code",
   "execution_count": null,
   "id": "fca7a940-5612-43a1-83ba-5b5cf558102e",
   "metadata": {},
   "outputs": [],
   "source": []
  }
 ],
 "metadata": {
  "kernelspec": {
   "display_name": "Python 3 (ipykernel)",
   "language": "python",
   "name": "python3"
  },
  "language_info": {
   "codemirror_mode": {
    "name": "ipython",
    "version": 3
   },
   "file_extension": ".py",
   "mimetype": "text/x-python",
   "name": "python",
   "nbconvert_exporter": "python",
   "pygments_lexer": "ipython3",
   "version": "3.10.8"
  }
 },
 "nbformat": 4,
 "nbformat_minor": 5
}
