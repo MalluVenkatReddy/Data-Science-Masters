{
 "cells": [
  {
   "cell_type": "markdown",
   "id": "ffe46e04-c788-42a8-9e47-99488dbfa495",
   "metadata": {
    "tags": []
   },
   "source": [
    "## 4.1 Operators\n",
    "\n",
    "* Logical\n",
    "* Equality \n",
    "* Comparision\n",
    "* Arithmetic\n",
    "* Bitwise"
   ]
  },
  {
   "cell_type": "markdown",
   "id": "a71676fd-f13f-465e-b94b-bc031db42d14",
   "metadata": {},
   "source": [
    "### 4.1.1 Logical Operators"
   ]
  },
  {
   "cell_type": "markdown",
   "id": "2abe2412-da99-41db-b3b7-4e9b8388fbc5",
   "metadata": {},
   "source": [
    "\n",
    "In python following keywords are used for boolean operations -\n",
    "\n",
    "|Keywords | Meaning|\n",
    "|-|-|\n",
    "|**not**|unary negation|\n",
    "|**and**|conditional AND|\n",
    "|**or**|conditional OR| \n",
    "\n",
    "**EXAMPLES**:"
   ]
  },
  {
   "cell_type": "code",
   "execution_count": 13,
   "id": "9b63cfbe-6864-4d5b-b10e-6cea746e9f5f",
   "metadata": {},
   "outputs": [
    {
     "name": "stdout",
     "output_type": "stream",
     "text": [
      "Defined value of start is True\n",
      "Defined value of stop is False\n",
      "Defined value of start by negating stop is True\n",
      "Defined value of stop by negating start is False\n"
     ]
    }
   ],
   "source": [
    "START=True\n",
    "STOP=False\n",
    "print(f\"Defined value of start is {START}\")\n",
    "print(f\"Defined value of stop is {STOP}\")\n",
    "print(f\"Defined value of start by negating stop is {not STOP}\")\n",
    "print(f\"Defined value of stop by negating start is {not START}\")"
   ]
  },
  {
   "cell_type": "code",
   "execution_count": 15,
   "id": "cd5d65e8-c140-4db6-aa68-29345f8b50ed",
   "metadata": {},
   "outputs": [
    {
     "name": "stdout",
     "output_type": "stream",
     "text": [
      "Defined value of start is 1\n",
      "Defined value of stop is 0\n",
      "Defined value of start by negating stop is 1\n",
      "Defined value of stop by negating start is 0\n"
     ]
    }
   ],
   "source": [
    "START=1\n",
    "STOP=0\n",
    "print(f\"Defined value of start is {START}\")\n",
    "print(f\"Defined value of stop is {STOP}\")\n",
    "print(f\"Defined value of start by negating stop is {int(not STOP)}\")\n",
    "print(f\"Defined value of stop by negating start is {int(not START)}\")"
   ]
  },
  {
   "cell_type": "code",
   "execution_count": 22,
   "id": "fe6b2c01-e344-49ab-8aec-efe278cdbe2f",
   "metadata": {},
   "outputs": [
    {
     "name": "stdout",
     "output_type": "stream",
     "text": [
      "boolean value of no. 0 is False\n",
      "boolean value of no. 1 is True\n",
      "negation of 0 is True and negation of 1 is False\n"
     ]
    }
   ],
   "source": [
    "Zero=0\n",
    "One=1\n",
    "print(f\"boolean value of no. {Zero} is {bool(Zero)}\")\n",
    "print(f\"boolean value of no. {One} is {bool(One)}\")\n",
    "print(f\"negation of {Zero} is {(bool(One))} and negation of {One} is {(bool(Zero))}\")"
   ]
  },
  {
   "cell_type": "code",
   "execution_count": 25,
   "id": "ad156265-6ef5-41c1-aa42-905ce287ee36",
   "metadata": {},
   "outputs": [
    {
     "name": "stdout",
     "output_type": "stream",
     "text": [
      "boolean value of no. -5 is True\n",
      "boolean value of no. 5 is True\n",
      "negation of -5 is True and negation of 5 is True\n"
     ]
    }
   ],
   "source": [
    "Neg_int=-5\n",
    "Pos_int=5\n",
    "print(f\"boolean value of no. {Neg_int} is {bool(Neg_int)}\")\n",
    "print(f\"boolean value of no. {Pos_int} is {bool(Pos_int)}\")\n",
    "print(f\"negation of {Neg_int} is {(bool(Pos_int))} and negation of {Pos_int} is {(bool(Neg_int))}\")"
   ]
  },
  {
   "cell_type": "code",
   "execution_count": 27,
   "id": "afe3ce78-4145-43c8-ab32-f8a8a5937e97",
   "metadata": {},
   "outputs": [
    {
     "name": "stdout",
     "output_type": "stream",
     "text": [
      "boolean value of no. -5.8 is True\n",
      "boolean value of no. 5.8 is True\n",
      "negation of -5.8 is True and negation of 5.8 is True\n"
     ]
    }
   ],
   "source": [
    "Neg_float=-5.8\n",
    "Pos_float=5.8\n",
    "print(f\"boolean value of no. {Neg_float} is {bool(Neg_float)}\")\n",
    "print(f\"boolean value of no. {Pos_float} is {bool(Pos_float)}\")\n",
    "print(f\"negation of {Neg_float} is {(bool(Pos_float))} and negation of {Pos_float} is {(bool(Neg_float))}\")"
   ]
  },
  {
   "cell_type": "code",
   "execution_count": 29,
   "id": "b5cb53fa-4b80-4e99-9fbf-1a410dce9db2",
   "metadata": {},
   "outputs": [
    {
     "name": "stdout",
     "output_type": "stream",
     "text": [
      "Dish contain vegetables True\n",
      "Dish contain Salt False\n",
      "Dish contain vegetables and Salt False\n"
     ]
    }
   ],
   "source": [
    "Veg=True\n",
    "Salt=False\n",
    "Dish=Veg and Salt\n",
    "print(f\"Dish contain vegetables {Veg}\")\n",
    "print(f\"Dish contain Salt {Salt}\")\n",
    "print(f\"Dish contain vegetables and Salt {Dish}\")"
   ]
  },
  {
   "cell_type": "code",
   "execution_count": 30,
   "id": "06ec4f81-a3b5-457b-b04a-31b8f0d3f1e9",
   "metadata": {},
   "outputs": [
    {
     "name": "stdout",
     "output_type": "stream",
     "text": [
      "Dish contain vegetables True\n",
      "Dish contain Salt True\n",
      "Dish contain vegetables and Salt True\n"
     ]
    }
   ],
   "source": [
    "Veg=True\n",
    "Salt=True\n",
    "Dish=Veg and Salt\n",
    "print(f\"Dish contain vegetables {Veg}\")\n",
    "print(f\"Dish contain Salt {Salt}\")\n",
    "print(f\"Dish contain vegetables and Salt {Dish}\")"
   ]
  },
  {
   "cell_type": "code",
   "execution_count": 34,
   "id": "d3036469-7910-48b0-8b2b-d37d9671861d",
   "metadata": {},
   "outputs": [
    {
     "name": "stdout",
     "output_type": "stream",
     "text": [
      "You have bike True\n",
      "You have car True\n",
      "You can travel 100KMPH True\n"
     ]
    }
   ],
   "source": [
    "Bike=True\n",
    "Car=True\n",
    "Travel_100KMPH=Bike or Car\n",
    "print(f\"You have bike {Bike}\")\n",
    "print(f\"You have car {Car}\")\n",
    "print(f\"You can travel 100KMPH {Travel_100KMPH}\")"
   ]
  },
  {
   "cell_type": "code",
   "execution_count": 35,
   "id": "5e89bc04-a6b7-46cf-8492-b303d2e69d96",
   "metadata": {},
   "outputs": [
    {
     "name": "stdout",
     "output_type": "stream",
     "text": [
      "You have bike True\n",
      "You have car False\n",
      "You can travel 100KMPH True\n"
     ]
    }
   ],
   "source": [
    "Bike=True\n",
    "Car=False\n",
    "Travel_100KMPH=Bike or Car\n",
    "print(f\"You have bike {Bike}\")\n",
    "print(f\"You have car {Car}\")\n",
    "print(f\"You can travel 100KMPH {Travel_100KMPH}\")"
   ]
  },
  {
   "cell_type": "code",
   "execution_count": 36,
   "id": "b267670e-8fc8-4d5e-a4c4-7f1325b052c1",
   "metadata": {},
   "outputs": [
    {
     "name": "stdout",
     "output_type": "stream",
     "text": [
      "You have bike False\n",
      "You have car True\n",
      "You can travel 100KMPH True\n"
     ]
    }
   ],
   "source": [
    "Bike=False\n",
    "Car=True\n",
    "Travel_100KMPH=Bike or Car\n",
    "print(f\"You have bike {Bike}\")\n",
    "print(f\"You have car {Car}\")\n",
    "print(f\"You can travel 100KMPH {Travel_100KMPH}\")"
   ]
  },
  {
   "cell_type": "code",
   "execution_count": 37,
   "id": "ce197806-6348-4b2d-adf8-f13e24a9f106",
   "metadata": {},
   "outputs": [
    {
     "name": "stdout",
     "output_type": "stream",
     "text": [
      "You have bike False\n",
      "You have car False\n",
      "You can travel 100KMPH False\n"
     ]
    }
   ],
   "source": [
    "Bike=False\n",
    "Car=False\n",
    "Travel_100KMPH=Bike or Car\n",
    "print(f\"You have bike {Bike}\")\n",
    "print(f\"You have car {Car}\")\n",
    "print(f\"You can travel 100KMPH {Travel_100KMPH}\")"
   ]
  },
  {
   "cell_type": "markdown",
   "id": "10ad1c9a-414b-4424-876d-4a1326a2314f",
   "metadata": {},
   "source": [
    "### 4.1.2 Equality Operators"
   ]
  },
  {
   "cell_type": "markdown",
   "id": "f1b01df6-aad9-4cb8-bc0b-c0fd0d96178f",
   "metadata": {},
   "source": [
    "\n",
    "\n",
    "Following operations are present in python for equlity check operation-\n",
    "\n",
    "|Operators|Meaning|\n",
    "|-|-|\n",
    "|**is**|***a is b*** returns true if variable/identifiers a and b *points* to the *same object*|\n",
    "|**is not**|***a is not b*** returns true if variable/identifiers a and b *points* to the *different object*|\n",
    "|**==**|***a == b*** returns true if variable/identifiers a and b has same value|\n",
    "|**!=**|***a != b*** returns true if variable/identifiers a and b has different value|"
   ]
  },
  {
   "cell_type": "code",
   "execution_count": 53,
   "id": "58d46823-3896-4914-bc07-7e3b21311326",
   "metadata": {},
   "outputs": [
    {
     "name": "stdout",
     "output_type": "stream",
     "text": [
      "id of lst_a is 139647379758848\n",
      "id of lst_b is 139647379767808\n",
      "id of lst_c is 139647379767808\n",
      "lst_a is lst_b False\n",
      "lst_a == lst_b True\n",
      "lst_b is lst_c True\n",
      "lst_b == lst_,c True\n"
     ]
    }
   ],
   "source": [
    "lst_a=[1,2,3,4]\n",
    "lst_b=[1,2,3,4]\n",
    "lst_c=lst_b\n",
    "print(f\"id of lst_a is {id(lst_a)}\")\n",
    "print(f\"id of lst_b is {id(lst_b)}\")\n",
    "print(f\"id of lst_c is {id(lst_c)}\")\n",
    "print(f\"lst_a is lst_b {lst_a is lst_b}\")\n",
    "print(f\"lst_a == lst_b {lst_a == lst_b}\")\n",
    "print(f\"lst_b is lst_c {lst_b is lst_c}\")\n",
    "print(f\"lst_b == lst_,c {lst_b == lst_c}\")"
   ]
  },
  {
   "cell_type": "code",
   "execution_count": 56,
   "id": "202872b6-eb3c-45b1-a8a6-ee015d4713a7",
   "metadata": {},
   "outputs": [
    {
     "name": "stdout",
     "output_type": "stream",
     "text": [
      "lst_a is lst_b False\n",
      "lst_a is not lst_b True\n",
      "lst_a is == lst_b False\n"
     ]
    }
   ],
   "source": [
    "lst_a=[1,2,3,4]\n",
    "lst_b=[1,2,3]\n",
    "print(f\"lst_a is lst_b {lst_a is lst_b}\")\n",
    "print(f\"lst_a is not lst_b {lst_a is not lst_b}\")\n",
    "print(f\"lst_a is == lst_b {lst_a == lst_b}\")"
   ]
  },
  {
   "cell_type": "code",
   "execution_count": 58,
   "id": "59701a38-2d6d-4e7e-8a3b-b7c7cc34fafc",
   "metadata": {},
   "outputs": [
    {
     "name": "stdout",
     "output_type": "stream",
     "text": [
      "id of str_a is 139647379623024\n",
      "id of str_b is 139647379623024\n",
      "id of str_c is 139647379623024\n",
      "str_a is str_b True\n",
      "str_a == str_b True\n",
      "str_b is str_c True\n",
      "str_b == str_,c True\n"
     ]
    }
   ],
   "source": [
    "str_a=\"mallu\"\n",
    "str_b=\"mallu\"\n",
    "str_c=str_b\n",
    "print(f\"id of str_a is {id(str_a)}\")\n",
    "print(f\"id of str_b is {id(str_b)}\")\n",
    "print(f\"id of str_c is {id(str_c)}\")\n",
    "print(f\"str_a is str_b {str_a is str_b}\")\n",
    "print(f\"str_a == str_b {str_a == str_b}\")\n",
    "print(f\"str_b is str_c {str_b is str_c}\")\n",
    "print(f\"str_b == str_,c {str_b == str_c}\")"
   ]
  },
  {
   "cell_type": "code",
   "execution_count": 59,
   "id": "cb3957f4-c9ef-426f-ae0a-943d2cf6e1cc",
   "metadata": {},
   "outputs": [
    {
     "name": "stdout",
     "output_type": "stream",
     "text": [
      "id of int_a is 139647577637392\n",
      "id of int_b is 139647577637392\n",
      "id of int_c is 139647577637392\n",
      "int_a is int_b True\n",
      "int_a == int_b True\n",
      "int_b is int_c True\n",
      "int_b == int_,c True\n"
     ]
    }
   ],
   "source": [
    "int_a=10\n",
    "int_b=10\n",
    "int_c=int_b\n",
    "print(f\"id of int_a is {id(int_a)}\")\n",
    "print(f\"id of int_b is {id(int_b)}\")\n",
    "print(f\"id of int_c is {id(int_c)}\")\n",
    "print(f\"int_a is int_b {int_a is int_b}\")\n",
    "print(f\"int_a == int_b {int_a == int_b}\")\n",
    "print(f\"int_b is int_c {int_b is int_c}\")\n",
    "print(f\"int_b == int_,c {int_b == int_c}\")"
   ]
  },
  {
   "cell_type": "code",
   "execution_count": 61,
   "id": "399b3f7e-67ef-4dba-9acd-e1c6e9d93931",
   "metadata": {},
   "outputs": [
    {
     "name": "stdout",
     "output_type": "stream",
     "text": [
      "lst_a is not equal to lst_b True\n"
     ]
    }
   ],
   "source": [
    "lst_a=[1,2,3,4]\n",
    "lst_b=[1,2,3]\n",
    "print(f\"lst_a is not equal to lst_b {lst_a != lst_b}\")"
   ]
  },
  {
   "cell_type": "markdown",
   "id": "a78dc88c-2e6b-4456-8736-9ce01b62f52f",
   "metadata": {},
   "source": [
    "### 4.1.3 Comparison Operators"
   ]
  },
  {
   "cell_type": "markdown",
   "id": "46e6cf25-0313-48bf-93f6-df2b43da7457",
   "metadata": {},
   "source": [
    "|Operation|Meaning|\n",
    "|:-:|:-:|\n",
    "| **<** |less than|\n",
    "| **<=** |less than or equal to|\n",
    "| **>** |greater than|\n",
    "| **>=** |greater than or equal to|"
   ]
  },
  {
   "cell_type": "code",
   "execution_count": 68,
   "id": "68e991fc-1c8e-49e4-b3a8-83a03f8796e9",
   "metadata": {},
   "outputs": [
    {
     "name": "stdout",
     "output_type": "stream",
     "text": [
      "bike is faster than car: False\n",
      "bike is slower than car: True\n"
     ]
    }
   ],
   "source": [
    "maxium_speed_of_bike = 150\n",
    "max_speed_of_car = 200\n",
    "\n",
    "print(f\"bike is faster than car: {maxium_speed_of_bike > max_speed_of_car}\")\n",
    "print(f\"bike is slower than car: {maxium_speed_of_bike < max_speed_of_car}\")"
   ]
  },
  {
   "cell_type": "code",
   "execution_count": 69,
   "id": "6c386d15-2a8b-414f-a163-889027ba85d9",
   "metadata": {},
   "outputs": [
    {
     "name": "stdout",
     "output_type": "stream",
     "text": [
      "today's temperature is less than or equal to yesterday's: True\n",
      "tomorrow's temperature is expected to be same or more as of today: True\n"
     ]
    }
   ],
   "source": [
    "temp_today = 25\n",
    "temp_yesterday = 27\n",
    "predicted_temp_nextDay = 27\n",
    "\n",
    "print(f\"today's temperature is less than or equal to yesterday's: {temp_today <= temp_yesterday}\")\n",
    "print(f\"tomorrow's temperature is expected to be same or more as of today: {predicted_temp_nextDay >= temp_today}\")"
   ]
  },
  {
   "cell_type": "markdown",
   "id": "c560a043-46c7-4b5b-9dab-2db1bf98382b",
   "metadata": {},
   "source": [
    "4.1.4 Arithmetic Operators"
   ]
  },
  {
   "cell_type": "markdown",
   "id": "a1d50283-82c7-4cc1-9d5f-bff352bd9c1b",
   "metadata": {},
   "source": [
    "|Operation|Meaning|\n",
    "|:-:|:-:|\n",
    "| **+** |addition|\n",
    "| **-** |subtraction|\n",
    "| **\\*** |multiplication|\n",
    "| **/** |true division|\n",
    "| **//** |integer division|\n",
    "| **%** |the modulo operator|"
   ]
  },
  {
   "cell_type": "code",
   "execution_count": 2,
   "id": "5bf1e208-e7b7-4e0e-a377-fe1ed6115ea6",
   "metadata": {},
   "outputs": [
    {
     "name": "stdout",
     "output_type": "stream",
     "text": [
      "integer division:\n",
      "25/5=5\n"
     ]
    }
   ],
   "source": [
    "var_a = 5\n",
    "var_b = 25\n",
    "integer_division = var_b // var_a\n",
    "print(f\"integer division:\\n{var_b}/{var_a}={integer_division}\")"
   ]
  },
  {
   "cell_type": "code",
   "execution_count": 73,
   "id": "d45e103d-dabb-4161-9033-d224788eb6c2",
   "metadata": {},
   "outputs": [
    {
     "name": "stdout",
     "output_type": "stream",
     "text": [
      "integer division:\n",
      "25/3=8\n"
     ]
    }
   ],
   "source": [
    "var_a = 3\n",
    "var_b = 25\n",
    "integer_division = var_b // var_a\n",
    "print(f\"integer division:\\n{var_b}/{var_a}={integer_division}\")"
   ]
  },
  {
   "cell_type": "code",
   "execution_count": 74,
   "id": "687d1ead-f09a-4698-8888-9c0de80f7a63",
   "metadata": {},
   "outputs": [
    {
     "name": "stdout",
     "output_type": "stream",
     "text": [
      "remainder:\n",
      "28/5 is 3\n"
     ]
    }
   ],
   "source": [
    "var_a = 5\n",
    "var_b = 28\n",
    "remainder = var_b % var_a\n",
    "print(f\"remainder:\\n{var_b}/{var_a} is {remainder}\")"
   ]
  },
  {
   "cell_type": "code",
   "execution_count": 75,
   "id": "7477a72d-4a09-4bc9-adc2-77e7ab374c4e",
   "metadata": {},
   "outputs": [
    {
     "name": "stdout",
     "output_type": "stream",
     "text": [
      "remainder:\n",
      "25/3 is 1\n"
     ]
    }
   ],
   "source": [
    "var_a = 3\n",
    "var_b = 25\n",
    "remainder = var_b % var_a\n",
    "print(f\"remainder:\\n{var_b}/{var_a} is {remainder}\")"
   ]
  },
  {
   "cell_type": "markdown",
   "id": "01a430b5-c202-4c8c-a333-425a9d7e0ce0",
   "metadata": {},
   "source": [
    "4.1.5 Bitwise Operators"
   ]
  },
  {
   "cell_type": "markdown",
   "id": "5c60606e-c470-459c-a748-eb90fe0172bb",
   "metadata": {},
   "source": [
    "|Operation|Meaning|\n",
    "|:-:|:-:|\n",
    "| **∼** |bitwise complement (prefix unary operator)|\n",
    "| **&** |bitwise and|\n",
    "| **\\|** |bitwise or|\n",
    "| **^** |bitwise exclusive-or|\n",
    "| **<<** |shift bits left, filling in with zeros|\n",
    "| **>>** |shift bits right, filling in with sign bit|"
   ]
  },
  {
   "cell_type": "markdown",
   "id": "dd42a5a2-6938-4901-86b4-4456899c6e82",
   "metadata": {},
   "source": [
    "|x|y|&|\n",
    "|:-:|:-:|:-:|\n",
    "|0|0|0|\n",
    "|0|1|0|\n",
    "|1|0|0|\n",
    "|1|1|1|\n",
    "\n",
    "\n",
    "|x|y|\\||\n",
    "|:-:|:-:|:-:|\n",
    "|0|0|0|\n",
    "|0|1|1|\n",
    "|1|0|1|\n",
    "|1|1|1|\n",
    "\n",
    "\n",
    "|x|y|^|\n",
    "|:-:|:-:|:-:|\n",
    "|0|0|0|\n",
    "|0|1|1|\n",
    "|1|0|1|\n",
    "|1|1|0|"
   ]
  },
  {
   "cell_type": "code",
   "execution_count": 5,
   "id": "fca49a2f-7508-4f0d-a4d9-5383309e2074",
   "metadata": {},
   "outputs": [
    {
     "name": "stdout",
     "output_type": "stream",
     "text": [
      "var of a is 10 and binary of a is 0b1010\n",
      "complimentary of a is -11 \n",
      " and binary of complimentary of a is -0b1011\n"
     ]
    }
   ],
   "source": [
    "a=10\n",
    "comp_a=~a\n",
    "bin_a=bin(a)\n",
    "bin_comp_a=bin(comp_a)\n",
    "print(f\"var of a is {a} and binary of a is {bin_a}\")\n",
    "print(f\"complimentary of a is {comp_a} \\n and binary of complimentary of a is {bin_comp_a}\")"
   ]
  },
  {
   "cell_type": "code",
   "execution_count": 9,
   "id": "a52112b6-0898-422f-b82a-be49fd295839",
   "metadata": {},
   "outputs": [
    {
     "name": "stdout",
     "output_type": "stream",
     "text": [
      "var of a is 10, var of b is 4 and binary of a is 0b1010, binary of b is 0b100\n",
      "bitwise_and of a and b is 0 \n",
      " and binary of bitwise_and is 0b0\n"
     ]
    }
   ],
   "source": [
    "a=10\n",
    "b=4\n",
    "bin_a=bin(a)\n",
    "bin_b=bin(b)\n",
    "bitwise_and = a & b\n",
    "bin_bitwise_and=bin(a & b)\n",
    "print(f\"var of a is {a}, var of b is {b} and binary of a is {bin_a}, binary of b is {bin_b}\")\n",
    "print(f\"bitwise_and of a and b is {bitwise_and} \\n and binary of bitwise_and is {bin_bitwise_and}\")"
   ]
  },
  {
   "cell_type": "code",
   "execution_count": 12,
   "id": "902eb297-ee0a-4ee7-850e-639d95fc2702",
   "metadata": {},
   "outputs": [
    {
     "name": "stdout",
     "output_type": "stream",
     "text": [
      "var of a is 10, var of b is 4 and binary of a is 0b1010, binary of b is 0b100\n",
      "bitwise_or of a and b is 14 \n",
      " and binary of bitwise_or is 0b1110\n"
     ]
    }
   ],
   "source": [
    "a=10\n",
    "b=4\n",
    "bin_a=bin(a)\n",
    "bin_b=bin(b)\n",
    "bitwise_or = a | b\n",
    "bin_bitwise_or=bin(a | b)\n",
    "print(f\"var of a is {a}, var of b is {b} and binary of a is {bin_a}, binary of b is {bin_b}\")\n",
    "print(f\"bitwise_or of a and b is {bitwise_or} \\n and binary of bitwise_or is {bin_bitwise_or}\")"
   ]
  },
  {
   "cell_type": "code",
   "execution_count": 13,
   "id": "d6821c79-d09c-41d2-8250-9d0737df9a0e",
   "metadata": {},
   "outputs": [
    {
     "name": "stdout",
     "output_type": "stream",
     "text": [
      "var of a is 10, var of b is 4 and binary of a is 0b1010, binary of b is 0b100\n",
      "bitwise_xor of a and b is 14 \n",
      " and binary of bitwise_xor is 0b1110\n"
     ]
    }
   ],
   "source": [
    "a=10\n",
    "b=4\n",
    "bin_a=bin(a)\n",
    "bin_b=bin(b)\n",
    "bitwise_xor = a ^ b\n",
    "bin_bitwise_xor=bin(a ^ b)\n",
    "print(f\"var of a is {a}, var of b is {b} and binary of a is {bin_a}, binary of b is {bin_b}\")\n",
    "print(f\"bitwise_xor of a and b is {bitwise_xor} \\n and binary of bitwise_xor is {bin_bitwise_xor}\")"
   ]
  },
  {
   "cell_type": "code",
   "execution_count": 7,
   "id": "e5f91896-141a-4356-a6ab-1dae70c6fb67",
   "metadata": {},
   "outputs": [
    {
     "name": "stdout",
     "output_type": "stream",
     "text": [
      "variable a is 50\n",
      "binary of a is 0b110010\n",
      "left_shift of a is 100\n",
      "binary of left_shift a is 0b1100100\n",
      "right shift of a is 25\n",
      "binary of right shift a is 0b11001\n"
     ]
    }
   ],
   "source": [
    "a=50\n",
    "bin_a=bin(a)\n",
    "left_shift=a<<1\n",
    "bin_left_shift=bin(left_shift)\n",
    "right_shift=a>>1\n",
    "bin_right_shift=bin(right_shift)\n",
    "print(f\"variable a is {a}\")\n",
    "print(f\"binary of a is {bin_a}\")\n",
    "print(f\"left_shift of a is {left_shift}\")\n",
    "print(f\"binary of left_shift a is {bin_left_shift}\")\n",
    "print(f\"right shift of a is {right_shift}\")\n",
    "print(f\"binary of right shift a is {bin_right_shift}\")"
   ]
  },
  {
   "cell_type": "code",
   "execution_count": 9,
   "id": "a39733c1-697b-4888-8fe7-44fe8d43f47e",
   "metadata": {},
   "outputs": [
    {
     "data": {
      "text/plain": [
       "True"
      ]
     },
     "execution_count": 9,
     "metadata": {},
     "output_type": "execute_result"
    }
   ],
   "source": [
    "N=1\n",
    "a//2**N==a>>N"
   ]
  },
  {
   "cell_type": "code",
   "execution_count": 10,
   "id": "7779d172-cdfa-4a26-b79c-c4dfc53534a3",
   "metadata": {},
   "outputs": [
    {
     "data": {
      "text/plain": [
       "True"
      ]
     },
     "execution_count": 10,
     "metadata": {},
     "output_type": "execute_result"
    }
   ],
   "source": [
    "N=1\n",
    "a*2**N==a<<N"
   ]
  },
  {
   "cell_type": "code",
   "execution_count": 11,
   "id": "5fecc173-0945-4ea4-a61b-55151a8eefbd",
   "metadata": {},
   "outputs": [
    {
     "data": {
      "text/plain": [
       "True"
      ]
     },
     "execution_count": 11,
     "metadata": {},
     "output_type": "execute_result"
    }
   ],
   "source": [
    "N=2\n",
    "a//2**N==a>>N"
   ]
  },
  {
   "cell_type": "code",
   "execution_count": 12,
   "id": "885355a6-b523-4f70-8fdd-a7d3514e70d1",
   "metadata": {},
   "outputs": [
    {
     "data": {
      "text/plain": [
       "True"
      ]
     },
     "execution_count": 12,
     "metadata": {},
     "output_type": "execute_result"
    }
   ],
   "source": [
    "N=2\n",
    "a*2**N==a<<N"
   ]
  },
  {
   "cell_type": "markdown",
   "id": "2c50d58e-9521-4b46-aedf-51834be6fb70",
   "metadata": {},
   "source": [
    "## 4.2 Operators for Sets and Dictionaries"
   ]
  },
  {
   "cell_type": "markdown",
   "id": "3d7f77c4-cbef-40cc-9bac-e0e919ad5fba",
   "metadata": {},
   "source": [
    "|Operation|Meaning|\n",
    "|:-:|:-:|\n",
    "|key in s|containment check|\n",
    "| key not in s | non-containment check |\n",
    "| s1 == s2 | s1 is equivalent to s2 |\n",
    "| s1 != s2 | s1 is not equivalent to s2 |\n",
    "| s1 <= s2 | s1 is subset of s2 |\n",
    "| s1 < s2 | s1 is proper subset of s2 | \n",
    "| s1 >= s2 | s1 is superset of s2 | \n",
    "| s1 > s2 | s1 is proper superset of s2 |\n",
    "| s1 \\| s2 | the union of s1 and s2 |\n",
    "| s1 & s2 | the intersection of s1 and s2 |\n",
    "| s1 − s2 | the set of elements in s1 but not s2 |\n",
    "| s1 ˆ s2 | the set of elements in precisely one of s1 or s2 |"
   ]
  },
  {
   "cell_type": "code",
   "execution_count": 16,
   "id": "515dfc21-b43f-43c4-8056-507326c3877d",
   "metadata": {},
   "outputs": [
    {
     "data": {
      "text/plain": [
       "True"
      ]
     },
     "execution_count": 16,
     "metadata": {},
     "output_type": "execute_result"
    }
   ],
   "source": [
    "'x' in {'x':5,'y':10}"
   ]
  },
  {
   "cell_type": "code",
   "execution_count": 17,
   "id": "fdaa1c49-2401-4aed-8703-d77b4482ef26",
   "metadata": {},
   "outputs": [
    {
     "data": {
      "text/plain": [
       "False"
      ]
     },
     "execution_count": 17,
     "metadata": {},
     "output_type": "execute_result"
    }
   ],
   "source": [
    "'z' in {'x':5,'y':10}"
   ]
  },
  {
   "cell_type": "code",
   "execution_count": 18,
   "id": "6cda7c55-2bcc-49eb-93a3-f52cb2932da0",
   "metadata": {},
   "outputs": [
    {
     "data": {
      "text/plain": [
       "True"
      ]
     },
     "execution_count": 18,
     "metadata": {},
     "output_type": "execute_result"
    }
   ],
   "source": [
    "'z' not in {'x':5,'y':10}"
   ]
  },
  {
   "cell_type": "code",
   "execution_count": 20,
   "id": "b53bdda0-6546-4cd6-af8f-8a93e1bbd4e8",
   "metadata": {},
   "outputs": [
    {
     "data": {
      "text/plain": [
       "False"
      ]
     },
     "execution_count": 20,
     "metadata": {},
     "output_type": "execute_result"
    }
   ],
   "source": [
    "set_1={1,2,3}\n",
    "set_2={1,2,5}\n",
    "set_1==set_2"
   ]
  },
  {
   "cell_type": "code",
   "execution_count": 21,
   "id": "08e50d9e-7de4-4d5d-b815-123c19d66fd6",
   "metadata": {},
   "outputs": [
    {
     "data": {
      "text/plain": [
       "True"
      ]
     },
     "execution_count": 21,
     "metadata": {},
     "output_type": "execute_result"
    }
   ],
   "source": [
    "set_1!=set_2"
   ]
  },
  {
   "cell_type": "code",
   "execution_count": 22,
   "id": "a18d3819-d361-44f1-9de1-76cbd2a946af",
   "metadata": {},
   "outputs": [
    {
     "data": {
      "text/plain": [
       "True"
      ]
     },
     "execution_count": 22,
     "metadata": {},
     "output_type": "execute_result"
    }
   ],
   "source": [
    "set_1==set_1"
   ]
  },
  {
   "cell_type": "code",
   "execution_count": 23,
   "id": "cfc61d31-dea9-4ff5-b740-81508dfe8e8e",
   "metadata": {},
   "outputs": [
    {
     "data": {
      "text/plain": [
       "False"
      ]
     },
     "execution_count": 23,
     "metadata": {},
     "output_type": "execute_result"
    }
   ],
   "source": [
    "set_1<=set_2"
   ]
  },
  {
   "cell_type": "code",
   "execution_count": 24,
   "id": "69c958e6-293e-426c-98b1-5792a771c5e4",
   "metadata": {},
   "outputs": [
    {
     "data": {
      "text/plain": [
       "True"
      ]
     },
     "execution_count": 24,
     "metadata": {},
     "output_type": "execute_result"
    }
   ],
   "source": [
    "set_1 = {1,2,3}\n",
    "set_2 = {1,2}\n",
    "set_2 <= set_1"
   ]
  },
  {
   "cell_type": "code",
   "execution_count": 25,
   "id": "a0c9c9fd-2746-4282-97e6-2edcf9ff7674",
   "metadata": {},
   "outputs": [
    {
     "data": {
      "text/plain": [
       "True"
      ]
     },
     "execution_count": 25,
     "metadata": {},
     "output_type": "execute_result"
    }
   ],
   "source": [
    "set_2 < set_1"
   ]
  },
  {
   "cell_type": "code",
   "execution_count": 26,
   "id": "c7c3342a-b88b-4b8a-858a-f273ed6a30e6",
   "metadata": {},
   "outputs": [
    {
     "data": {
      "text/plain": [
       "False"
      ]
     },
     "execution_count": 26,
     "metadata": {},
     "output_type": "execute_result"
    }
   ],
   "source": [
    "set_2 >= set_1"
   ]
  },
  {
   "cell_type": "code",
   "execution_count": 27,
   "id": "88809129-76f9-4339-8b89-c535ee0c796b",
   "metadata": {},
   "outputs": [
    {
     "data": {
      "text/plain": [
       "True"
      ]
     },
     "execution_count": 27,
     "metadata": {},
     "output_type": "execute_result"
    }
   ],
   "source": [
    "set_1 >= set_2"
   ]
  },
  {
   "cell_type": "code",
   "execution_count": 28,
   "id": "822d610f-910d-4039-a6c0-48504058eb6f",
   "metadata": {},
   "outputs": [
    {
     "data": {
      "text/plain": [
       "True"
      ]
     },
     "execution_count": 28,
     "metadata": {},
     "output_type": "execute_result"
    }
   ],
   "source": [
    "set_1 > set_2"
   ]
  },
  {
   "cell_type": "markdown",
   "id": "1817542f-85dd-4ed8-97c8-617ddb14fa21",
   "metadata": {},
   "source": [
    "> set_1 $\\cup$ set_2"
   ]
  },
  {
   "cell_type": "code",
   "execution_count": 29,
   "id": "8a36b905-e3a4-4c24-9e41-58dcb1c00236",
   "metadata": {},
   "outputs": [
    {
     "data": {
      "text/plain": [
       "{1, 2, 3}"
      ]
     },
     "execution_count": 29,
     "metadata": {},
     "output_type": "execute_result"
    }
   ],
   "source": [
    "set_1 | set_2"
   ]
  },
  {
   "cell_type": "markdown",
   "id": "7313b261-fd46-4ed7-b3e4-ab33ca39b15f",
   "metadata": {},
   "source": [
    "> set_1 $\\cap$ set_2"
   ]
  },
  {
   "cell_type": "code",
   "execution_count": 30,
   "id": "a567280d-5928-47c1-a4b6-b8f4fab9922a",
   "metadata": {},
   "outputs": [
    {
     "data": {
      "text/plain": [
       "{1, 2}"
      ]
     },
     "execution_count": 30,
     "metadata": {},
     "output_type": "execute_result"
    }
   ],
   "source": [
    "set_1 & set_2"
   ]
  },
  {
   "cell_type": "code",
   "execution_count": 31,
   "id": "6e7fa506-1467-44c1-8303-8f99783dd2b0",
   "metadata": {},
   "outputs": [
    {
     "data": {
      "text/plain": [
       "{3}"
      ]
     },
     "execution_count": 31,
     "metadata": {},
     "output_type": "execute_result"
    }
   ],
   "source": [
    "set_1 - set_2"
   ]
  },
  {
   "cell_type": "code",
   "execution_count": 33,
   "id": "bca083e8-cc20-44ac-8583-dc3f31fb821a",
   "metadata": {},
   "outputs": [],
   "source": [
    "set_1 = {1,2,3}\n",
    "set_2 = {1,2,4}"
   ]
  },
  {
   "cell_type": "code",
   "execution_count": 34,
   "id": "5f966198-1bc8-42db-9c4d-1d72e4b9a640",
   "metadata": {},
   "outputs": [
    {
     "data": {
      "text/plain": [
       "{3, 4}"
      ]
     },
     "execution_count": 34,
     "metadata": {},
     "output_type": "execute_result"
    }
   ],
   "source": [
    "set_1 ^ set_2"
   ]
  },
  {
   "cell_type": "code",
   "execution_count": 35,
   "id": "f15347e0-d212-4efd-afa6-07623a326814",
   "metadata": {},
   "outputs": [
    {
     "data": {
      "text/plain": [
       "{3}"
      ]
     },
     "execution_count": 35,
     "metadata": {},
     "output_type": "execute_result"
    }
   ],
   "source": [
    "set_1 - set_2"
   ]
  },
  {
   "cell_type": "markdown",
   "id": "b93d867c-a2b5-4194-8b31-fe1d2641087f",
   "metadata": {},
   "source": [
    "## 4.3 Extended Assignment Operators"
   ]
  },
  {
   "cell_type": "code",
   "execution_count": 37,
   "id": "eeb58037-9746-41ab-9ab2-0b4305b1f68c",
   "metadata": {},
   "outputs": [
    {
     "name": "stdout",
     "output_type": "stream",
     "text": [
      "[1, 2, 3, 4, 5]\n",
      "[1, 2, 3, 4, 5, 6, 7]\n"
     ]
    }
   ],
   "source": [
    "alpha = [1, 2, 3]\n",
    "beta = alpha # an alias for alpha\n",
    "beta += [4, 5] # extends the original list with two more elements\n",
    "beta = beta + [6, 7] # reassigns beta to a new\n",
    "print(alpha)\n",
    "print(beta)"
   ]
  },
  {
   "cell_type": "markdown",
   "id": "14d2f16b-f466-4e83-8399-e7d036fbf09f",
   "metadata": {},
   "source": [
    "## 4.4 Operator Precedence\n",
    "\n",
    "Following table represents operators from highest to the lowest precedence -"
   ]
  },
  {
   "cell_type": "markdown",
   "id": "20b92f04-921b-4d14-b2da-2a887472971b",
   "metadata": {},
   "source": [
    "| Operator Precedence |\n",
    "|: - :|\n",
    "\n",
    "|Precedence| Type | Symbols |\n",
    "|:-:|:-:|:-:|\n",
    "|1| member access | expr.member |\n",
    "|2| function/method calls | expr(...) |\n",
    "|3| container subscripts/slices | expr[...] | \n",
    "|4| exponentiation | ** |\n",
    "|5| unary operators | +expr, −expr, ~expr |\n",
    "|6| multiplication, division | *, /, //, % |\n",
    "|7| addition, subtraction | +, − |\n",
    "|8| bitwise shifting | <<, >> |\n",
    "|9| bitwise-and | & |\n",
    "|10| bitwise-xor | ˆ |\n",
    "|11| bitwise-or |\\| | \n",
    "|12| comparisons | is, is not, ==, !=, <, <=, >, >= |\n",
    "|13| containment | in, not in |\n",
    "|14| logical-not | not expr |\n",
    "|15| logical-and | and |\n",
    "|16| logical-or | or |\n",
    "|17| conditional | val1 if condition else val2 |\n",
    "|18| assignments | =, +=, −=, =, etc. |"
   ]
  },
  {
   "cell_type": "markdown",
   "id": "65b7129f-d189-44d0-87ca-0bb81ccf12d3",
   "metadata": {},
   "source": [
    "Reference:-\n",
    "```\n",
    "@book{goodrich2013data,\n",
    "  title={Data Structures and Algorithms in Python},\n",
    "  author={Goodrich, M.T. and Tamassia, R. and Goldwasser, M.H.},\n",
    "  isbn={9788126562176},\n",
    "  url={https://books.google.co.in/books?id=IbCOzQEACAAJ},\n",
    "  year={2013},\n",
    "  publisher={J. Wiley \\& Sons}\n",
    "}\n",
    "```"
   ]
  },
  {
   "cell_type": "code",
   "execution_count": null,
   "id": "7a5c10aa-fd54-410f-8d6e-8b3875cf427f",
   "metadata": {},
   "outputs": [],
   "source": []
  }
 ],
 "metadata": {
  "kernelspec": {
   "display_name": "Python 3 (ipykernel)",
   "language": "python",
   "name": "python3"
  },
  "language_info": {
   "codemirror_mode": {
    "name": "ipython",
    "version": 3
   },
   "file_extension": ".py",
   "mimetype": "text/x-python",
   "name": "python",
   "nbconvert_exporter": "python",
   "pygments_lexer": "ipython3",
   "version": "3.10.8"
  }
 },
 "nbformat": 4,
 "nbformat_minor": 5
}
