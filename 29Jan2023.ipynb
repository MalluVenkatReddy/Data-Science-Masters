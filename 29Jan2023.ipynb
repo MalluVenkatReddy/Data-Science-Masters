{
 "cells": [
  {
   "cell_type": "code",
   "execution_count": 60,
   "id": "64f4cba6-af23-481b-9301-0708e6f84428",
   "metadata": {},
   "outputs": [
    {
     "data": {
      "text/plain": [
       "10"
      ]
     },
     "execution_count": 60,
     "metadata": {},
     "output_type": "execute_result"
    }
   ],
   "source": [
    "a=10\n",
    "a"
   ]
  },
  {
   "cell_type": "markdown",
   "id": "fe228f3a-7eb0-407c-8f88-62df043bc361",
   "metadata": {},
   "source": [
    "## This is intro session ##\n",
    "# data science test code"
   ]
  },
  {
   "cell_type": "code",
   "execution_count": 61,
   "id": "6f3c5904-36e1-4985-88e6-0ec7f988cd1c",
   "metadata": {},
   "outputs": [],
   "source": [
    "b=20"
   ]
  },
  {
   "cell_type": "code",
   "execution_count": 62,
   "id": "2f1284b2-0bfe-4b9b-94f9-36788bb81a45",
   "metadata": {},
   "outputs": [
    {
     "data": {
      "text/plain": [
       "20"
      ]
     },
     "execution_count": 62,
     "metadata": {},
     "output_type": "execute_result"
    }
   ],
   "source": [
    "b"
   ]
  },
  {
   "cell_type": "code",
   "execution_count": 63,
   "id": "5547349d-787e-4e50-b142-9a916a30c323",
   "metadata": {},
   "outputs": [
    {
     "data": {
      "text/plain": [
       "3"
      ]
     },
     "execution_count": 63,
     "metadata": {},
     "output_type": "execute_result"
    }
   ],
   "source": [
    "1+2"
   ]
  },
  {
   "cell_type": "code",
   "execution_count": 64,
   "id": "b2e94f24-1821-40cd-86c7-ddee42b50d32",
   "metadata": {},
   "outputs": [
    {
     "data": {
      "text/plain": [
       "8"
      ]
     },
     "execution_count": 64,
     "metadata": {},
     "output_type": "execute_result"
    }
   ],
   "source": [
    "3+5"
   ]
  },
  {
   "cell_type": "code",
   "execution_count": 65,
   "id": "a089aaa3-5b65-408e-a855-d35569e48158",
   "metadata": {},
   "outputs": [],
   "source": [
    "## this is test code\n",
    "#this is also test code"
   ]
  },
  {
   "cell_type": "code",
   "execution_count": 66,
   "id": "1d4575e7-6816-4dca-a022-63feac958a74",
   "metadata": {},
   "outputs": [
    {
     "data": {
      "text/plain": [
       "100"
      ]
     },
     "execution_count": 66,
     "metadata": {},
     "output_type": "execute_result"
    }
   ],
   "source": [
    "\"\"\"hi i am mallu\n",
    "venkat reddy\"\"\"\n",
    "a=100\n",
    "a"
   ]
  },
  {
   "cell_type": "markdown",
   "id": "ae81ec11-b6a8-4acf-8a6c-3568aa757e11",
   "metadata": {
    "tags": []
   },
   "source": [
    "# hello\n",
    "## hello\n",
    "## hello"
   ]
  },
  {
   "cell_type": "code",
   "execution_count": 67,
   "id": "4dfcedad-8029-4d2d-b424-2162f0b213e1",
   "metadata": {},
   "outputs": [
    {
     "data": {
      "text/plain": [
       "5"
      ]
     },
     "execution_count": 67,
     "metadata": {},
     "output_type": "execute_result"
    }
   ],
   "source": [
    "2+3"
   ]
  },
  {
   "cell_type": "code",
   "execution_count": 68,
   "id": "6d197998-0e76-4b7f-895e-ac4827ba407b",
   "metadata": {},
   "outputs": [
    {
     "data": {
      "text/plain": [
       "50"
      ]
     },
     "execution_count": 68,
     "metadata": {},
     "output_type": "execute_result"
    }
   ],
   "source": [
    "a=50\n",
    "a"
   ]
  },
  {
   "cell_type": "code",
   "execution_count": 69,
   "id": "e93abd5e-7470-4405-bdb1-5546e4e7bd66",
   "metadata": {},
   "outputs": [
    {
     "name": "stdout",
     "output_type": "stream",
     "text": [
      "7\n"
     ]
    }
   ],
   "source": [
    "print(3+4)"
   ]
  },
  {
   "cell_type": "code",
   "execution_count": 70,
   "id": "c4947f50-ba23-4c79-8faf-ebab397e5358",
   "metadata": {},
   "outputs": [
    {
     "name": "stdout",
     "output_type": "stream",
     "text": [
      "my name is mallu vekata reddy\n"
     ]
    }
   ],
   "source": [
    "print(\"my name is mallu vekata reddy\")"
   ]
  },
  {
   "cell_type": "code",
   "execution_count": 71,
   "id": "d5295d81-2ff9-4505-ab23-08aea4613a96",
   "metadata": {},
   "outputs": [
    {
     "name": "stdout",
     "output_type": "stream",
     "text": [
      "my name is mallu \n",
      " vekata reddy\n"
     ]
    }
   ],
   "source": [
    "print(\"my name is mallu \\n vekata reddy\")"
   ]
  },
  {
   "cell_type": "code",
   "execution_count": 72,
   "id": "c03e4ee4-29b2-4bd8-80ee-42087e7c9615",
   "metadata": {},
   "outputs": [],
   "source": [
    "name=\"mallu\"\n",
    "company=\"tcs\""
   ]
  },
  {
   "cell_type": "code",
   "execution_count": 73,
   "id": "7f8a3ed6-f01e-47b1-9666-3541a4032530",
   "metadata": {},
   "outputs": [
    {
     "data": {
      "text/plain": [
       "str"
      ]
     },
     "execution_count": 73,
     "metadata": {},
     "output_type": "execute_result"
    }
   ],
   "source": [
    "type(\"\")"
   ]
  },
  {
   "cell_type": "code",
   "execution_count": 74,
   "id": "b5c0ca93-8afd-4e11-8ff9-7d8d5db14cb4",
   "metadata": {},
   "outputs": [
    {
     "data": {
      "text/plain": [
       "str"
      ]
     },
     "execution_count": 74,
     "metadata": {},
     "output_type": "execute_result"
    }
   ],
   "source": [
    "type(\"hi\")"
   ]
  },
  {
   "cell_type": "code",
   "execution_count": 75,
   "id": "3b5029c6-2e55-4e89-a401-0054846f2306",
   "metadata": {},
   "outputs": [
    {
     "data": {
      "text/plain": [
       "int"
      ]
     },
     "execution_count": 75,
     "metadata": {},
     "output_type": "execute_result"
    }
   ],
   "source": [
    "a=20\n",
    "type(a)"
   ]
  },
  {
   "cell_type": "code",
   "execution_count": 76,
   "id": "a76619e6-c157-4419-8f3d-c450ffc90bb0",
   "metadata": {},
   "outputs": [
    {
     "data": {
      "text/plain": [
       "float"
      ]
     },
     "execution_count": 76,
     "metadata": {},
     "output_type": "execute_result"
    }
   ],
   "source": [
    "b=2.5\n",
    "type(b)"
   ]
  },
  {
   "cell_type": "code",
   "execution_count": 77,
   "id": "5291aba9-810e-4ba4-a999-626f27d7177f",
   "metadata": {},
   "outputs": [
    {
     "name": "stdout",
     "output_type": "stream",
     "text": [
      "(5+6j)\n"
     ]
    },
    {
     "data": {
      "text/plain": [
       "complex"
      ]
     },
     "execution_count": 77,
     "metadata": {},
     "output_type": "execute_result"
    }
   ],
   "source": [
    "z=5+6j\n",
    "print(z)\n",
    "type(z)"
   ]
  },
  {
   "cell_type": "code",
   "execution_count": null,
   "id": "0d35e747-2cf1-47dd-8703-05cf47311005",
   "metadata": {
    "jupyter": {
     "source_hidden": true
    },
    "tags": []
   },
   "outputs": [],
   "source": []
  },
  {
   "cell_type": "code",
   "execution_count": 78,
   "id": "8e9b81a9-a743-4914-9110-484de3330062",
   "metadata": {},
   "outputs": [
    {
     "name": "stdout",
     "output_type": "stream",
     "text": [
      "Mallu\n",
      "mallu\n"
     ]
    }
   ],
   "source": [
    "a=\"Mallu\"\n",
    "b=\"mallu\"\n",
    "print(a)\n",
    "print(b)"
   ]
  },
  {
   "cell_type": "code",
   "execution_count": 79,
   "id": "98b5650f-6c64-459c-af96-ddcde728a418",
   "metadata": {},
   "outputs": [
    {
     "data": {
      "text/plain": [
       "True"
      ]
     },
     "execution_count": 79,
     "metadata": {},
     "output_type": "execute_result"
    }
   ],
   "source": [
    "True"
   ]
  },
  {
   "cell_type": "code",
   "execution_count": 80,
   "id": "757fdfa0-2ef1-4384-855d-91d1a44fef5d",
   "metadata": {},
   "outputs": [
    {
     "data": {
      "text/plain": [
       "False"
      ]
     },
     "execution_count": 80,
     "metadata": {},
     "output_type": "execute_result"
    }
   ],
   "source": [
    "False"
   ]
  },
  {
   "cell_type": "code",
   "execution_count": 81,
   "id": "89322e12-cb33-4231-9609-ddead7ee966d",
   "metadata": {},
   "outputs": [
    {
     "data": {
      "text/plain": [
       "False"
      ]
     },
     "execution_count": 81,
     "metadata": {},
     "output_type": "execute_result"
    }
   ],
   "source": [
    "True and False"
   ]
  },
  {
   "cell_type": "code",
   "execution_count": 82,
   "id": "4eeb4233-5ebd-499a-a259-860d2aaeb02b",
   "metadata": {},
   "outputs": [
    {
     "data": {
      "text/plain": [
       "True"
      ]
     },
     "execution_count": 82,
     "metadata": {},
     "output_type": "execute_result"
    }
   ],
   "source": [
    "True or False"
   ]
  },
  {
   "cell_type": "code",
   "execution_count": 83,
   "id": "8255e341-1729-45d3-a8a1-71493d1f8409",
   "metadata": {},
   "outputs": [
    {
     "data": {
      "text/plain": [
       "True"
      ]
     },
     "execution_count": 83,
     "metadata": {},
     "output_type": "execute_result"
    }
   ],
   "source": [
    "bool(1)"
   ]
  },
  {
   "cell_type": "code",
   "execution_count": 84,
   "id": "8a161b12-701f-4888-88c8-f142a6b77f4c",
   "metadata": {},
   "outputs": [
    {
     "data": {
      "text/plain": [
       "False"
      ]
     },
     "execution_count": 84,
     "metadata": {},
     "output_type": "execute_result"
    }
   ],
   "source": [
    "bool(0)"
   ]
  },
  {
   "cell_type": "code",
   "execution_count": 85,
   "id": "261090cc-e09b-4f72-b4b7-f59038cbbd6e",
   "metadata": {},
   "outputs": [
    {
     "name": "stdout",
     "output_type": "stream",
     "text": [
      "True\n"
     ]
    }
   ],
   "source": [
    "a=1\n",
    "if bool(a)==True:\n",
    "    print(\"True\")"
   ]
  },
  {
   "cell_type": "markdown",
   "id": "eb0dabf1-8801-4b93-8bca-1dafef912343",
   "metadata": {},
   "source": [
    "##Dynamic Typing##"
   ]
  },
  {
   "cell_type": "code",
   "execution_count": 86,
   "id": "a3cad326-4561-45d5-b271-23a1cbfa9442",
   "metadata": {},
   "outputs": [],
   "source": [
    "a=10\n",
    "b=100\n",
    "a=\"str\""
   ]
  },
  {
   "cell_type": "code",
   "execution_count": 87,
   "id": "6c57cc73-5176-41de-aa6e-18354a94ce89",
   "metadata": {},
   "outputs": [
    {
     "data": {
      "text/plain": [
       "'str'"
      ]
     },
     "execution_count": 87,
     "metadata": {},
     "output_type": "execute_result"
    }
   ],
   "source": [
    "a"
   ]
  },
  {
   "cell_type": "markdown",
   "id": "b292532d-af68-4592-88b8-518f58f89399",
   "metadata": {},
   "source": [
    "##concatination##"
   ]
  },
  {
   "cell_type": "code",
   "execution_count": 88,
   "id": "35fcff2b-af1a-47c5-8159-95b61f5bd1f7",
   "metadata": {},
   "outputs": [
    {
     "data": {
      "text/plain": [
       "'11'"
      ]
     },
     "execution_count": 88,
     "metadata": {},
     "output_type": "execute_result"
    }
   ],
   "source": [
    "\"1\"+\"1\""
   ]
  },
  {
   "cell_type": "code",
   "execution_count": 89,
   "id": "505e0a3d-730d-4fa6-8692-64bbec8847e8",
   "metadata": {},
   "outputs": [
    {
     "data": {
      "text/plain": [
       "'1111111111'"
      ]
     },
     "execution_count": 89,
     "metadata": {},
     "output_type": "execute_result"
    }
   ],
   "source": [
    "\"1\"*10"
   ]
  },
  {
   "cell_type": "code",
   "execution_count": 90,
   "id": "d6271559-23f8-4b4d-9507-d560d8be963d",
   "metadata": {},
   "outputs": [
    {
     "data": {
      "text/plain": [
       "20"
      ]
     },
     "execution_count": 90,
     "metadata": {},
     "output_type": "execute_result"
    }
   ],
   "source": [
    "2*10"
   ]
  },
  {
   "cell_type": "code",
   "execution_count": 91,
   "id": "f36f2bde-063e-47a6-b2a1-2877997cfb80",
   "metadata": {},
   "outputs": [
    {
     "data": {
      "text/plain": [
       "32"
      ]
     },
     "execution_count": 91,
     "metadata": {},
     "output_type": "execute_result"
    }
   ],
   "source": [
    "2**5"
   ]
  },
  {
   "cell_type": "code",
   "execution_count": 96,
   "id": "a862b816-3598-41be-a02e-676866a4ba7e",
   "metadata": {},
   "outputs": [
    {
     "data": {
      "text/plain": [
       "str"
      ]
     },
     "execution_count": 96,
     "metadata": {},
     "output_type": "execute_result"
    }
   ],
   "source": [
    "type(\"34\")"
   ]
  },
  {
   "cell_type": "code",
   "execution_count": 102,
   "id": "681c68e4-3e5d-4460-bae5-a2858f28b062",
   "metadata": {},
   "outputs": [
    {
     "data": {
      "text/plain": [
       "'56'"
      ]
     },
     "execution_count": 102,
     "metadata": {},
     "output_type": "execute_result"
    }
   ],
   "source": [
    "a=\"56\"\n",
    "a"
   ]
  },
  {
   "cell_type": "code",
   "execution_count": 1,
   "id": "201f0a72-b58e-4af9-8cfd-6e74eccd5e10",
   "metadata": {},
   "outputs": [
    {
     "data": {
      "text/plain": [
       "54"
      ]
     },
     "execution_count": 1,
     "metadata": {},
     "output_type": "execute_result"
    }
   ],
   "source": [
    "int(54)"
   ]
  },
  {
   "cell_type": "code",
   "execution_count": null,
   "id": "f284a7d7-d69d-4d38-988a-1f1f1689470f",
   "metadata": {},
   "outputs": [],
   "source": []
  }
 ],
 "metadata": {
  "kernelspec": {
   "display_name": "Python 3 (ipykernel)",
   "language": "python",
   "name": "python3"
  },
  "language_info": {
   "codemirror_mode": {
    "name": "ipython",
    "version": 3
   },
   "file_extension": ".py",
   "mimetype": "text/x-python",
   "name": "python",
   "nbconvert_exporter": "python",
   "pygments_lexer": "ipython3",
   "version": "3.9.13"
  }
 },
 "nbformat": 4,
 "nbformat_minor": 5
}
